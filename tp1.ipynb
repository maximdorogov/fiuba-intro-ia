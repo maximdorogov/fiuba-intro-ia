{
 "cells": [
  {
   "cell_type": "markdown",
   "metadata": {},
   "source": [
    "## Trabajo practico N° 1: Algoritmos de busqueda en Torre de Hanoi\n",
    "\n",
    "### Integrantes: Maxim Dorogov\n",
    "\n",
    "1. **¿Cuáles son los PEAS de este problema? (Performance, Environment, Actuators, Sensors)**\n",
    "\n",
    "- **Performance**: \n",
    "\n",
    "    Para el problema de las torres de hanoi podemos definir el rendimiento como número de movimientos realizados para resolver el problema. Un menor número de movimientos indica una solución con mejor rendimiento.\n",
    "- **Environment**: \n",
    "\n",
    "    El entorno es el sistema compuesto por las torres y los discos.\n",
    "- **Actuators**: \n",
    "\n",
    "    Los actuadores son los discos que se mueven entre las torres.\n",
    "- **Sensors**: \n",
    "\n",
    "    En este problema al ser un entorno observable se conoce en todo momento el estado real. Estimo que los sensores serian los ojos del agente, que le permiten observar el estado de las torres y los discos.\n",
    "\n",
    "2. **¿Cuáles son las propiedades del entorno de trabajo?**\n",
    "Es un entorno observable, dinamico y secuencial. Ya que los discos cambian de posicion con cada movimiento pero lo hacen siguiendo un orden establecido definiendo secuencias de estados.\n",
    "\n",
    "3. **En el contexto de este problema, defina los siguientes conceptos:**\n",
    "\n",
    "- **Estado**: \n",
    "\n",
    "Configuracion de los discos en las torres en un instante determinado.\n",
    "- **Espacio de estados**: \n",
    "\n",
    "Todas las combinaciones posibles de los discos en las torres.\n",
    "- **Árbol de búsqueda**: \n",
    "\n",
    "Representación gráfica de todas las combinaciones posibles de los discos en las torres y los movimientos realizados para lograr cada combinacion.\n",
    "- **Nodo de búsqueda**: \n",
    "\n",
    "El nodo de búsqueda es una representación de un estado en el árbol de búsqueda. Contiene información sobre la configuración de los discos en las torres y el camino recorrido para llegar a ese estado.\n",
    "- **Objetivo**: \n",
    "\n",
    "Un estado en el que todos los discos se encuentran en la torre de destino o la configuracion que uno proponga como solucion final.\n",
    "- **Acción**: \n",
    "\n",
    "Mover un disco de una torre a otra.\n",
    "- **Frontera**: \n",
    "\n",
    "La frontera es la separacion de dos regiones del grafo, los estados que fueron explorados y los que no.\n",
    "\n",
    "4. **Implemente algún método de búsqueda. Podés elegir cualquiera excepto búsqueda en anchura (breadth-first search), que ya fue desarrollada en clase. Sos libre de utilizar cualquiera de los algoritmos vistos, o incluso explorar nuevos.**\n",
    "\n",
    "Se decidio llevar a cabo la resolucion del problema de las torres de Hanoi mediante busqueda informada (Greedy).\n",
    "Se utilizo el costo de llegar a un nodo como la funcion heuristica.\n",
    "\n",
    "Una vez implementado el algoritmo greedy se realizo una comparacion con la implementacion de busqueda primero en anchura que se mostro en clase.\n",
    "\n",
    "5. **¿Cuál es la complejidad teórica en tiempo y memoria del algoritmo elegido?**\n",
    "\n",
    "Para greedy la complejidad en tiempo es O(b^d) donde b es el el numero promedio de ramificaciones por cada nodo y d es la profundidad del arbol.\n",
    "\n",
    "\n",
    "**Items 6 y 7 se responden en la seccion de metricas del notebook**"
   ]
  },
  {
   "cell_type": "markdown",
   "metadata": {},
   "source": [
    "## Solucion propuesta"
   ]
  },
  {
   "cell_type": "code",
   "execution_count": 2,
   "metadata": {},
   "outputs": [],
   "source": [
    "from queue import PriorityQueue\n",
    "from typing import Tuple, Union, Set\n",
    "import tracemalloc\n",
    "\n",
    "from aima_libs.tree_hanoi import NodeHanoi\n",
    "from aima_libs.hanoi_states import (\n",
    "    ProblemHanoi, \n",
    "    StatesHanoi,\n",
    ")"
   ]
  },
  {
   "cell_type": "markdown",
   "metadata": {},
   "source": [
    "### Algoritmo de busqueda informada Greedy"
   ]
  },
  {
   "cell_type": "code",
   "execution_count": 7,
   "metadata": {},
   "outputs": [],
   "source": [
    "def greedy_hanoi_solver(\n",
    "    number_disks: int = 5\n",
    ") -> Union[Tuple[int, Set[StatesHanoi], StatesHanoi, PriorityQueue], None]:\n",
    "    \"\"\"\n",
    "    Informed search greedy solver for the Tower of Hanoi problem.\n",
    "\n",
    "    Parameters\n",
    "    ----------\n",
    "    number_disks : int\n",
    "        Number of disks in the Tower of Hanoi problem.\n",
    "    \n",
    "    Returns\n",
    "    -------\n",
    "    Tuple[int, Set[StatesHanoi], StatesHanoi, PriorityQueue] or None\n",
    "        Number of nodes explored, the traveled nodes and the goal state if \n",
    "        solution is found otherwise None.\n",
    "    \"\"\"\n",
    "    disks = [i for i in range(number_disks, 0, -1)] # N, N-1, N-2, ..., 1\n",
    "\n",
    "    # All disks are in the first rod at the beginning\n",
    "    initial_state = StatesHanoi(\n",
    "        rod1=disks, rod2=[], rod3=[], max_disks=number_disks)\n",
    "\n",
    "    # All disks must be in the third rod at the end\n",
    "    goal_state = StatesHanoi(\n",
    "        rod1=[], rod2=[], rod3=disks, max_disks=number_disks)\n",
    "    \n",
    "    problem = ProblemHanoi(initial=initial_state, goal=goal_state)\n",
    "    initial_node = NodeHanoi(state=initial_state)\n",
    "\n",
    "    frontier = PriorityQueue() \n",
    "    frontier.put((initial_node.path_cost, initial_node))\n",
    "    \n",
    "    # Will store the states that we have already explored\n",
    "    explored_states = set() \n",
    "\n",
    "    explored_ctr = 0\n",
    "    solution = None\n",
    "\n",
    "    while not frontier.empty():\n",
    "\n",
    "        # Get a node from the frontier and increment the ctr of explored nodes\n",
    "        _, node = frontier.get()\n",
    "        explored_ctr += 1\n",
    "        explored_states.add(node.state)        \n",
    "\n",
    "        if problem.goal_test(node.state):\n",
    "            solution = (explored_ctr, explored_states, node, frontier)\n",
    "            # solution found exit the loop\n",
    "            break\n",
    "        \n",
    "        # Add to queue all the not expored successors of the current node\n",
    "        for next_node in node.expand(problem):\n",
    "            if next_node.state not in explored_states:\n",
    "                frontier.put((next_node.path_cost, next_node))\n",
    "    return solution"
   ]
  },
  {
   "cell_type": "markdown",
   "metadata": {},
   "source": [
    "### Solucion implementada en clase de busqueda en anchura"
   ]
  },
  {
   "cell_type": "code",
   "execution_count": 6,
   "metadata": {},
   "outputs": [],
   "source": [
    "def breadth_first_search(number_disks=5):\n",
    "    # Inicializamos el problema\n",
    "    list_disks = [i for i in range(number_disks, 0, -1)]\n",
    "    initial_state = StatesHanoi(list_disks, [], [], max_disks=number_disks)\n",
    "    goal_state = StatesHanoi([], [], list_disks, max_disks=number_disks)\n",
    "    problem = ProblemHanoi(initial=initial_state, goal=goal_state)\n",
    "\n",
    "    frontier = [NodeHanoi(problem.initial)] # Cola FIFO con el nodo inicial\n",
    "    explored = set() # Conjunto de estados ya visitados\n",
    "\n",
    "    node_explored = 0\n",
    "    \n",
    "    while len(frontier) != 0:\n",
    "        node = frontier.pop()\n",
    "        node_explored += 1\n",
    "        \n",
    "        explored.add(node.state) # Verificamos si llegamos al objetivo\n",
    "        \n",
    "        if problem.goal_test(node.state):\n",
    "            metrics = {\n",
    "                \"solution_found\": True,\n",
    "                \"nodes_explored\": node_explored,\n",
    "                \"states_visited\": len(explored),\n",
    "                \"nodes_in_frontier\": len(frontier),\n",
    "                \"max_depth\": node.depth,\n",
    "                \"cost_total\": node.state.accumulated_cost,\n",
    "            }\n",
    "            return node, metrics\n",
    "        \n",
    "        # Agregamos a la frontera los nodos sucesores que no hayan sido visitados\n",
    "        for next_node in node.expand(problem):\n",
    "            if next_node.state not in explored:\n",
    "                frontier.insert(0, next_node)\n",
    "\n",
    "    # Si no se encuentra solución, devolvemos métricas igualmente\n",
    "    metrics = {\n",
    "        \"solution_found\": False,\n",
    "        \"nodes_explored\": node_explored,\n",
    "        \"states_visited\": len(explored),\n",
    "        \"nodes_in_frontier\": len(frontier),\n",
    "        \"max_depth\": node.depth, # OBS: Si no se encontró la solución, este valor solo tiene sentido en breadth_first_search, en otros casos se debe ir llevando registro de cual fue la máxima profundidad\n",
    "        \"cost_total\": None,\n",
    "    }\n",
    "    return None, metrics"
   ]
  },
  {
   "cell_type": "markdown",
   "metadata": {},
   "source": [
    "6. **A nivel de implementación, ¿cuánto tiempo y memoria utiliza el algoritmo? (Se recomienda ejecutarlo 10 veces y calcular el promedio y el desvío estándar de ambas métricas).**\n",
    "### Metricas y utilizacion de recursos para ambas soluciones"
   ]
  },
  {
   "cell_type": "code",
   "execution_count": 8,
   "metadata": {},
   "outputs": [
    {
     "name": "stdout",
     "output_type": "stream",
     "text": [
      "--- Greedy solver ---\n",
      " solution_found: True\n",
      " nodes_explored: 382\n",
      " states_visited: 216\n",
      " nodes_in_frontier: 45\n",
      " max_depth: 31\n",
      " cost_total: 31.0\n",
      "\n",
      "--- BFS solver ---\n",
      "solution_found: True\n",
      "nodes_explored: 1351\n",
      "states_visited: 233\n",
      "nodes_in_frontier: 285\n",
      "max_depth: 31\n",
      "cost_total: 31.0\n"
     ]
    }
   ],
   "source": [
    "DISKS_NUMBER = 5\n",
    "\n",
    "# -- Greedy solver\n",
    "solution = greedy_hanoi_solver(number_disks=DISKS_NUMBER)\n",
    "\n",
    "if solution is not None:\n",
    "    explored_nodes, states_visited, goal_node, frontier = solution\n",
    "    print(\"--- Greedy solver ---\")\n",
    "    print(\" solution_found: True\",)\n",
    "    print(f\" nodes_explored: {explored_nodes}\\n\",\n",
    "        f\"states_visited: {len(states_visited)}\\n\",\n",
    "        f\"nodes_in_frontier: {frontier.qsize()}\\n\",\n",
    "        f\"max_depth: {goal_node.depth}\\n\",\n",
    "        f\"cost_total: {goal_node.state.accumulated_cost}\\n\",\n",
    "    )\n",
    "\n",
    "# -- Breadth first search solver\n",
    "solution, metrics = breadth_first_search(number_disks=DISKS_NUMBER)\n",
    "print(\"--- BFS solver ---\")\n",
    "for key, value in metrics.items():\n",
    "    print(f\"{key}: {value}\")"
   ]
  },
  {
   "cell_type": "markdown",
   "metadata": {},
   "source": [
    "7. **Si la solución óptima es de 2k - 1 movimientos (siendo k el número de discos), ¿qué tan lejos está la solución encontrada por el algoritmo implementado de esa solución óptima? (Se recomienda ejecutar al menos 10 veces y usar el promedio de los trayectos obtenidos)**\n",
    "\n",
    "Tanto en el algoritmo de busqueda implementado como en el provisto por el docente se obtuvo 2^k - 1 movimientos."
   ]
  },
  {
   "cell_type": "code",
   "execution_count": 17,
   "metadata": {},
   "outputs": [
    {
     "name": "stdout",
     "output_type": "stream",
     "text": [
      "20.3 ms ± 267 µs per loop (mean ± std. dev. of 7 runs, 10 loops each)\n"
     ]
    }
   ],
   "source": [
    "%%timeit\n",
    "solution = greedy_hanoi_solver(number_disks=DISKS_NUMBER)"
   ]
  },
  {
   "cell_type": "code",
   "execution_count": 18,
   "metadata": {},
   "outputs": [
    {
     "name": "stdout",
     "output_type": "stream",
     "text": [
      "62.7 ms ± 2.02 ms per loop (mean ± std. dev. of 7 runs, 10 loops each)\n"
     ]
    }
   ],
   "source": [
    "%%timeit\n",
    "solution = breadth_first_search(number_disks=DISKS_NUMBER)"
   ]
  },
  {
   "cell_type": "code",
   "execution_count": 19,
   "metadata": {},
   "outputs": [
    {
     "name": "stdout",
     "output_type": "stream",
     "text": [
      "Pico de memoria ocupada greedy: 0.28 [MB]\n",
      "Pico de memoria ocupada breadth_first: 1.44 [MB]\n"
     ]
    }
   ],
   "source": [
    "tracemalloc.start()\n",
    "solution = greedy_hanoi_solver(number_disks=DISKS_NUMBER)\n",
    "_, memory_peak = tracemalloc.get_traced_memory()\n",
    "memory_peak /= 1024*1024\n",
    "tracemalloc.stop()\n",
    "print(f\"Pico de memoria ocupada greedy: {round(memory_peak, 2)} [MB]\", )\n",
    "\n",
    "tracemalloc.start()\n",
    "solution = breadth_first_search(number_disks=DISKS_NUMBER)\n",
    "_, memory_peak = tracemalloc.get_traced_memory()\n",
    "memory_peak /= 1024*1024\n",
    "tracemalloc.stop()\n",
    "print(f\"Pico de memoria ocupada breadth_first: {round(memory_peak, 2)} [MB]\", )"
   ]
  },
  {
   "cell_type": "markdown",
   "metadata": {},
   "source": [
    "### Conclusiones\n",
    "\n",
    "Se logro implementar el algoritmo de busqueda informada greedy y resolver el problema de las torres de hanoi. \n",
    "Es mas eficiente en todos los aspectos (tiempo de ejecucion, memoria utilizada, cantidad de estados recorridos) que la implementacion de busqueda en anchura.\n",
    "Se entiende que esto es dependiente de la heuristica utilizada."
   ]
  }
 ],
 "metadata": {
  "kernelspec": {
   "display_name": "SV_analytics",
   "language": "python",
   "name": "python3"
  },
  "language_info": {
   "codemirror_mode": {
    "name": "ipython",
    "version": 3
   },
   "file_extension": ".py",
   "mimetype": "text/x-python",
   "name": "python",
   "nbconvert_exporter": "python",
   "pygments_lexer": "ipython3",
   "version": "3.9.17"
  }
 },
 "nbformat": 4,
 "nbformat_minor": 2
}
